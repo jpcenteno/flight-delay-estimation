{
 "cells": [
  {
   "cell_type": "code",
   "execution_count": null,
   "metadata": {
    "autoscroll": false,
    "ein.hycell": false,
    "ein.tags": "worksheet-0",
    "slideshow": {
     "slide_type": "-"
    }
   },
   "outputs": [],
   "source": [
    "# asume que los datos estan en ../data/<año>.csv.bz2\n",
    "# fixme: poner el directorio de data que esté en el repo cuando pusheen los pibes\n",
    "\n",
    "import seaborn as sns\n",
    "import matplotlib.pyplot as plt\n",
    "\n",
    "import fnmatch\n",
    "\n",
    "import pandas as pd\n",
    "import time\n",
    "import os\n",
    "import shutil\n",
    "#sns.set(color_codes=True)\n",
    "\n",
    "# load data\n",
    "tmp_dir = \"./tmp_csv/\"\n",
    "years = [str(year) for year in range(1994,1999)]"
   ]
  },
  {
   "cell_type": "markdown",
   "metadata": {
    "ein.tags": "worksheet-0",
    "slideshow": {
     "slide_type": "-"
    }
   },
   "source": [
    "## Procesar datos"
   ]
  },
  {
   "cell_type": "code",
   "execution_count": null,
   "metadata": {
    "autoscroll": false,
    "ein.hycell": false,
    "ein.tags": "worksheet-0",
    "slideshow": {
     "slide_type": "-"
    }
   },
   "outputs": [],
   "source": [
    "#crear directorio con data de delays agrupada por retraso \n",
    "if not os.path.exists(tmp_dir):\n",
    "    os.makedirs(tmp_dir)\n",
    "    \n",
    "for year in years:\n",
    "    if not os.path.exists(tmp_dir+year+\".csv\"):\n",
    "        print(\"Leyendo csv: {}\".format(year))\n",
    "        t = time.time()\n",
    "        df = pd.read_csv(\"../data/\"+year+\".csv.bz2\", compression=\"bz2\", usecols=[\"Month\", \"Year\", \"DayofMonth\", \"DayOfWeek\", \"DepDelay\", \"ArrDelay\"], encoding=\"ISO 8859-1\")    \n",
    "\n",
    "        #formato mas feliz para fechas\n",
    "        dates = pd.to_datetime(df.Year*10000+df.Month*100+df.DayofMonth,format='%Y%m%d')\n",
    "        df[\"date\"] = dates\n",
    "        df = df[[\"date\", \"Year\", \"DepDelay\", \"ArrDelay\"]]\n",
    "\n",
    "        df = df.groupby(by=df['date'].dt.date).mean()\n",
    "        df.to_csv(tmp_dir+year+\".csv\")\n",
    "        del df \n",
    "    "
   ]
  },
  {
   "cell_type": "code",
   "execution_count": null,
   "metadata": {
    "autoscroll": false,
    "ein.hycell": false,
    "ein.tags": "worksheet-0",
    "slideshow": {
     "slide_type": "-"
    }
   },
   "outputs": [],
   "source": [
    "for filename in os.listdir(tmp_dir):\n",
    "    if filename.endswith(\".csv\") and filename != \"merged.csv\": \n",
    "        print(filename)\n",
    "        df = pd.read_csv(tmp_dir+filename)\n",
    "        fig, ax = plt.subplots(figsize=(16,4))\n",
    "        sns.lineplot(x=df.date, y=df.DepDelay, linestyle='-')\n",
    "        plt.xticks(plt.xticks()[0], df.date, rotation=90)\n",
    "        plt.tight_layout()\n",
    "        xticks = ax.xaxis.get_major_ticks()\n",
    "        for i in range(len(xticks)):\n",
    "            if i%30 != 0:\n",
    "                xticks[i].set_visible(False)\n",
    "            if i%int((len(xticks))/4) == 0:    \n",
    "                plt.axvline(x=i, color=\"orange\")\n",
    "            if i%int((len(xticks))/3) == 0:    \n",
    "                plt.axvline(x=i, color=\"green\")\n",
    "        fig.autofmt_xdate()\n",
    "        plt.show()\n",
    "        \n",
    "#Trimestres en verde, cuatrimestres en naranja"
   ]
  },
  {
   "cell_type": "code",
   "execution_count": null,
   "metadata": {
    "autoscroll": false,
    "ein.hycell": false,
    "ein.tags": "worksheet-0",
    "slideshow": {
     "slide_type": "-"
    }
   },
   "outputs": [],
   "source": [
    "#merge\n",
    "df = pd.DataFrame(columns=[\"date\", \"DepDelay\", \"ArrDelay\"])\n",
    "for filename in sorted(os.listdir(tmp_dir)):\n",
    "    if filename.endswith(\".csv\") and filename != \"merged.csv\":\n",
    "        print(filename)\n",
    "        df_input = pd.read_csv(tmp_dir+filename)\n",
    "        df = pd.concat([df, df_input], sort=True)\n",
    "        \n",
    "df.set_index('date')\n",
    "df.to_csv(tmp_dir+\"merged.csv\")"
   ]
  },
  {
   "cell_type": "code",
   "execution_count": null,
   "metadata": {
    "autoscroll": false,
    "ein.hycell": false,
    "ein.tags": "worksheet-0",
    "slideshow": {
     "slide_type": "-"
    }
   },
   "outputs": [],
   "source": [
    "df = pd.read_csv(tmp_dir+\"merged.csv\")\n",
    "df.plot(x=\"date\", y=\"DepDelay\", linestyle='-', figsize=(16,4))"
   ]
  },
  {
   "cell_type": "markdown",
   "metadata": {
    "ein.tags": "worksheet-0",
    "slideshow": {
     "slide_type": "-"
    }
   },
   "source": [
    "## CML acá "
   ]
  },
  {
   "cell_type": "code",
   "execution_count": null,
   "metadata": {
    "autoscroll": false,
    "ein.hycell": false,
    "ein.tags": "worksheet-0",
    "slideshow": {
     "slide_type": "-"
    }
   },
   "outputs": [],
   "source": [
    "#delays = df[\"DepDelay\"]\n",
    "old_delays = df.loc[df[\"Year\"]<1998][\"DepDelay\"]\n",
    "print(old_delays)\n",
    "print(df[\"DepDelay\"])"
   ]
  },
  {
   "cell_type": "code",
   "execution_count": null,
   "metadata": {
    "autoscroll": false,
    "ein.hycell": false,
    "ein.tags": "worksheet-0",
    "slideshow": {
     "slide_type": "-"
    }
   },
   "outputs": [],
   "source": [
    "#para jugar con fases\n",
    "time        = np.arange(0, 12,0.1);\n",
    "amplitude   = np.sin(2 * math.pi / 1* time + math.pi)\n",
    "plt.plot(time, amplitude)\n",
    "plt.show()"
   ]
  },
  {
   "cell_type": "code",
   "execution_count": null,
   "metadata": {
    "autoscroll": false,
    "ein.hycell": false,
    "ein.tags": "worksheet-0",
    "slideshow": {
     "slide_type": "-"
    }
   },
   "outputs": [],
   "source": [
    "import numpy as np\n",
    "import math\n",
    "\n",
    "max_grade = 1\n",
    "phases = [i*math.pi/2 for i in range(4)]\n",
    "\n",
    "# semanas, meses, bimestres, trimestres, cuatrimestres, semestres, años\n",
    "freqs =  [7] + [355/i for i in [12, 6, 4, 3, 2, 1]]\n",
    "\n",
    "def trig_vals(t):\n",
    "    return  [math.sin(2 * math.pi / f * t + p) for f in freqs for p in phases]\n",
    "\n",
    "def get_x_vals(x):\n",
    "    x_vals = []\n",
    "    for i in range(len(x)):\n",
    "        row = np.array([i**p for p in range(max_grade+1)] + trig_vals(i), dtype='float')\n",
    "        x_vals.append(row)\n",
    "    return x_vals\n",
    "\n",
    "arrays = get_x_vals(old_delays)\n",
    "A = np.stack(arrays)\n",
    "print(A.shape)\n",
    "\n",
    "#coefs = np.linalg.lstsq(A, old_delays, rcond=None)[0]\n",
    "coefs = np.linalg.solve(A.T@A, A.T@old_delays)"
   ]
  },
  {
   "cell_type": "code",
   "execution_count": null,
   "metadata": {
    "autoscroll": false,
    "ein.hycell": false,
    "ein.tags": "worksheet-0",
    "slideshow": {
     "slide_type": "-"
    }
   },
   "outputs": [],
   "source": [
    "del df[\"dl_pred\"]"
   ]
  },
  {
   "cell_type": "code",
   "execution_count": null,
   "metadata": {
    "autoscroll": false,
    "ein.hycell": false,
    "ein.tags": "worksheet-0",
    "slideshow": {
     "slide_type": "-"
    }
   },
   "outputs": [],
   "source": [
    "full_delays = df[\"DepDelay\"]\n",
    "full_arrays = get_x_vals(full_delays)\n",
    "full_A = np.stack(full_arrays)\n",
    "\n",
    "df[\"dl_pred\"] = full_A@coefs\n",
    "df"
   ]
  },
  {
   "cell_type": "code",
   "execution_count": null,
   "metadata": {
    "autoscroll": false,
    "ein.hycell": false,
    "ein.tags": "worksheet-0",
    "slideshow": {
     "slide_type": "-"
    }
   },
   "outputs": [],
   "source": [
    "plt.figure(figsize=(16,5))\n",
    "plt.xlabel('Predicción para el i-ésimo dia')\n",
    "\n",
    "\n",
    "ax1 = df.dl_pred.plot(color='orange', grid=True, label='pred delay')\n",
    "ax2 = df.DepDelay.plot(color='blue', grid=True, secondary_y=True, label='real delay')\n",
    "\n",
    "xticks = ax1.xaxis.get_major_ticks()\n",
    "plt.axvline(x=len(old_delays), color=\"green\")\n",
    "\n",
    "h1, l1 = ax1.get_legend_handles_labels()\n",
    "h2, l2 = ax2.get_legend_handles_labels()\n",
    "\n",
    "plt.legend(h1+h2, l1+l2, loc=2)\n",
    "plt.show()"
   ]
  },
  {
   "cell_type": "markdown",
   "metadata": {
    "ein.tags": "worksheet-0",
    "slideshow": {
     "slide_type": "-"
    }
   },
   "source": [
    "## BORRAR ARCHIVOS"
   ]
  },
  {
   "cell_type": "code",
   "execution_count": null,
   "metadata": {
    "autoscroll": false,
    "ein.hycell": false,
    "ein.tags": "worksheet-0",
    "slideshow": {
     "slide_type": "-"
    }
   },
   "outputs": [],
   "source": [
    "#borrar aux de años\n",
    "for filename in os.listdir(tmp_dir):\n",
    "    if fnmatch.fnmatch(filename, '*.csv') and filename != \"merged.csv\":\n",
    "        os.remove(tmp_dir+filename)"
   ]
  },
  {
   "cell_type": "code",
   "execution_count": null,
   "metadata": {
    "autoscroll": false,
    "ein.hycell": false,
    "ein.tags": "worksheet-0",
    "slideshow": {
     "slide_type": "-"
    }
   },
   "outputs": [],
   "source": [
    "#borrar merged\n",
    "os.remove(tmp_dir+\"merged.csv\")"
   ]
  },
  {
   "cell_type": "code",
   "execution_count": null,
   "metadata": {
    "autoscroll": false,
    "ein.hycell": false,
    "ein.tags": "worksheet-0",
    "slideshow": {
     "slide_type": "-"
    }
   },
   "outputs": [],
   "source": [
    "#borrar tmp\n",
    "shutil.rmtree(tmp_dir)"
   ]
  }
 ],
 "metadata": {
  "kernelspec": {
   "display_name": "Python 3",
   "language": "python",
   "name": "python3"
  },
  "language_info": {
   "codemirror_mode": {
    "name": "ipython",
    "version": 3
   },
   "file_extension": ".py",
   "mimetype": "text/x-python",
   "name": "python",
   "nbconvert_exporter": "python",
   "pygments_lexer": "ipython3",
   "version": "3.7.4"
  },
  "name": "monthly_delay.ipynb"
 },
 "nbformat": 4,
 "nbformat_minor": 2
}
