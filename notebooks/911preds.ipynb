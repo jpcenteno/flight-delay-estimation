{
 "cells": [
  {
   "cell_type": "markdown",
   "metadata": {},
   "source": [
    "## 9/11\n",
    "\n",
    "Veamos qué sucede si entrenamos datos antes del 9/11 y testeamos luego y antes de tal evento "
   ]
  },
  {
   "cell_type": "code",
   "execution_count": null,
   "metadata": {},
   "outputs": [],
   "source": [
    "# asume que los datos estan en ../data/<año>.csv.bz2\n",
    "# fixme: poner el directorio de data que esté en el repo cuando pusheen los pibes\n",
    "\n",
    "import seaborn as sns\n",
    "import matplotlib.pyplot as plt\n",
    "\n",
    "import fnmatch\n",
    "import numpy as np\n",
    "import math\n",
    "import pandas as pd\n",
    "import time\n",
    "import os\n",
    "import shutil\n",
    "#sns.set(color_codes=True)\n",
    "from sklearn.metrics import mean_squared_error\n",
    "from cml import normal_equations_solver as nes\n",
    "\n",
    "# load data\n",
    "tmp_dir = \"./tmp_csv/\"\n",
    "\n",
    "def nrmse(pred,y):\n",
    "    return math.sqrt(mean_squared_error(pred, y)) / (y.max()-y.min())"
   ]
  },
  {
   "cell_type": "markdown",
   "metadata": {},
   "source": [
    "Entrenamos con datos de hasta un mes antes del atentado y comparamos:\n",
    "* error en el último mes antes del evento\n",
    "* error en el primer mes después del evento"
   ]
  },
  {
   "cell_type": "code",
   "execution_count": null,
   "metadata": {},
   "outputs": [],
   "source": [
    "df = pd.read_csv(tmp_dir+\"daily/full.csv\")\n",
    "df['date'] = pd.to_datetime(df['date'], errors='coerce')\n",
    "\n",
    "train_limit = 2001 \n",
    "nine_eleven_event = pd.to_datetime(\"2001-9-11\")\n",
    "\n",
    "year_before = nine_eleven_event - pd.offsets.DateOffset(years=1)\n",
    "year_after = nine_eleven_event + pd.offsets.DateOffset(years=1)\n",
    "\n",
    "days_before_nine_eleven = len(df.loc[df[\"date\"].dt.date < nine_eleven_event])\n",
    "days_after_nine_eleven = len(df.loc[df[\"date\"].dt.date < year_after])\n",
    "\n",
    "train_delays = df.loc[df[\"date\"].dt.date < year_before][\"ArrDelay\"]\n",
    "print(len(train_delays))\n",
    "print(len(df[\"ArrDelay\"]))\n",
    "print(df.loc[df[\"date\"].dt.date < year_before])"
   ]
  },
  {
   "cell_type": "code",
   "execution_count": null,
   "metadata": {},
   "outputs": [],
   "source": [
    "max_grade = 1\n",
    "phases = [i*math.pi/2 for i in range(4)]\n",
    "monthly_freqs =  [3, 4, 6, 12]\n",
    "# semanas, meses, bimestres, trimestres, cuatrimestres, semestres, años\n",
    "daily_freqs =  [7] + [355/i for i in [12, 6, 4, 3, 2, 1]] \n",
    "\n",
    "class lsqPredictor:\n",
    "    def __init__(self, phases, freqs, max_grade):\n",
    "        self.phases = phases\n",
    "        self.freqs = freqs\n",
    "        self.max_grade = max_grade\n",
    "    \n",
    "    def trig_vals(self, t):\n",
    "        return  [math.sin(2 * math.pi / f * t + p) for f in self.freqs for p in self.phases]\n",
    "\n",
    "    def get_x_vals(self, x):\n",
    "        x_vals = []\n",
    "        for i in range(len(x)):\n",
    "            row = np.array([i**p for p in range(self.max_grade+1)] + self.trig_vals(i), dtype='float')\n",
    "            x_vals.append(row)\n",
    "        return x_vals\n",
    "    \n",
    "    def print_coefs(self):\n",
    "        c = 0\n",
    "        for i in range(self.max_grade+1):\n",
    "            print(\"Coef de x^{}:\\n{}\".format(i, self.coefs[c]))\n",
    "            c += 1\n",
    "        for i in self.freqs:\n",
    "            for j in self.phases:\n",
    "                print(\"Coef de sinusoide con frecuencia {} y fase {}:\\n{}\".format(i, j, self.coefs[c]))\n",
    "                c += 1\n",
    "                \n",
    "    def fit(self, train_set):\n",
    "        arrays = self.get_x_vals(train_set)\n",
    "        A = np.stack(arrays)\n",
    "        self.coefs = nes.lstsq(A, train_set)    \n",
    "    \n",
    "    def pred(self, pred_set):\n",
    "        arrays = self.get_x_vals(pred_set)\n",
    "        full_A = np.stack(arrays)        \n",
    "        return full_A@self.coefs \n",
    "    \n",
    "lpr = lsqPredictor(phases, daily_freqs, max_grade)\n",
    "lpr.fit(train_delays)\n",
    "lpr.print_coefs()"
   ]
  },
  {
   "cell_type": "code",
   "execution_count": null,
   "metadata": {},
   "outputs": [],
   "source": [
    "if \"dl_pred\" in df:\n",
    "    del df[\"dl_pred\"]"
   ]
  },
  {
   "cell_type": "code",
   "execution_count": null,
   "metadata": {},
   "outputs": [],
   "source": [
    "train_test_delays = df[\"ArrDelay\"]\n",
    "\n",
    "df[\"dl_pred\"] = lpr.pred(train_test_delays) \n",
    "df.describe()"
   ]
  },
  {
   "cell_type": "code",
   "execution_count": null,
   "metadata": {},
   "outputs": [],
   "source": [
    "#df.plot(x=\"date\", y=[\"DepDelay\", \"dl_pred\"], figsize=(16,5))\n",
    "\n",
    "def plot_df(df1, df2, train_limit_axis, unit_str, sparse_plot=False):\n",
    "    plt.figure(figsize=(16,5))\n",
    "    plt.xlabel('Predicción para el i-ésimo {}'.format(unit_str), fontsize=15)\n",
    "    plt.ylabel('Delay promedio'.format(unit_str), fontsize=15)\n",
    "\n",
    "    if sparse_plot:\n",
    "        df2 = df2[df2.index % 20 == 0] \n",
    "        df1 = df1[df1.index % 20 == 0]\n",
    "        \n",
    "    ax1 = df1.dl_pred.plot(color='orange', grid=True, label='pred delay', legend=True)\n",
    "    df2.ArrDelay.plot(color='blue', grid=True, secondary_y=False, label='real delay', ax=ax1, legend=True)\n",
    "\n",
    "    xticks = ax1.xaxis.get_major_ticks()\n",
    "    plt.axvline(x=train_limit_axis, color=\"green\")\n",
    "    plt.axvline(x=days_before_nine_eleven, color=\"red\")\n",
    "    plt.axvline(x=days_after_nine_eleven, color=\"green\")\n",
    "    \n",
    "    plt.show()\n",
    "\n",
    "df_full = pd.read_csv(tmp_dir+\"daily/full.csv\")\n",
    "df_full['date'] = pd.to_datetime(df_full['date'], errors='coerce')\n",
    "plot_df(df, df_full, len(train_delays), \"dia\", True)\n",
    "plot_df(df, df, len(train_delays), \"dia\", True)"
   ]
  },
  {
   "cell_type": "code",
   "execution_count": null,
   "metadata": {},
   "outputs": [],
   "source": [
    "pre_error = nrmse(\n",
    "        df.loc[(df[\"date\"].dt.date < nine_eleven_event) & \n",
    "               (df[\"date\"].dt.date >= year_before)]\n",
    "        .dl_pred, \n",
    "        df_full.loc[(df_full[\"date\"].dt.date < nine_eleven_event) & \n",
    "                    (df_full[\"date\"].dt.date >= year_before)]\n",
    "        .ArrDelay\n",
    ")\n",
    "\n",
    "post_error = nrmse(\n",
    "        df.loc[(df[\"date\"].dt.date > nine_eleven_event) & \n",
    "               (df[\"date\"].dt.date <= year_after)]\n",
    "        .dl_pred, \n",
    "        df_full.loc[(df_full[\"date\"].dt.date > nine_eleven_event) & \n",
    "                    (df_full[\"date\"].dt.date <= year_after)]\n",
    "        .ArrDelay\n",
    ")\n",
    "\n",
    "print(\"Error tras 9/11: {} \\nError antes de 9/11: {}\".format(post_error, pre_error))"
   ]
  },
  {
   "cell_type": "code",
   "execution_count": null,
   "metadata": {},
   "outputs": [],
   "source": [
    "avg_before = df_full.loc[(df[\"date\"].dt.date < nine_eleven_event) & \n",
    "       (df[\"date\"].dt.date >= year_before)].mean()\n",
    "\n",
    "avg_after = df_full.loc[(df_full[\"date\"].dt.date > nine_eleven_event) & \n",
    "            (df_full[\"date\"].dt.date <= year_after)].mean()\n",
    "\n",
    "print(\"Diferencia de un año:\")\n",
    "print(\"*Promedio de delay de arribos antes del 9/11: {} \\n*Promedio de delay después: {}\".format(float(avg_before), float(avg_after)))\n",
    "\n",
    "two_years_before =  nine_eleven_event - pd.offsets.DateOffset(years=2)\n",
    "two_years_after =  nine_eleven_event + pd.offsets.DateOffset(years=2)\n",
    "\n",
    "avg_before = df_full.loc[(df[\"date\"].dt.date < nine_eleven_event) & \n",
    "       (df[\"date\"].dt.date >= two_years_before)].mean()\n",
    "\n",
    "avg_after = df_full.loc[(df_full[\"date\"].dt.date > nine_eleven_event) & \n",
    "            (df_full[\"date\"].dt.date <= two_years_after)].mean()\n",
    "print(\"Diferencia de dos años:\")\n",
    "print(\"*Promedio de delay de arribos antes del 9/11: {} \\n*Promedio de delay después: {}\".format(float(avg_before), float(avg_after)))"
   ]
  },
  {
   "cell_type": "markdown",
   "metadata": {},
   "source": [
    "## Mensual"
   ]
  },
  {
   "cell_type": "code",
   "execution_count": null,
   "metadata": {},
   "outputs": [],
   "source": [
    "del df\n",
    "df = pd.read_csv(tmp_dir+\"monthly/full.csv\")\n",
    "df['date'] = pd.to_datetime(df['date'], errors='coerce')\n",
    "train_delays = df.loc[df[\"date\"].dt.date < year_before][\"ArrDelay\"]\n",
    "\n",
    "days_before_nine_eleven = len(df.loc[df[\"date\"].dt.date < nine_eleven_event])\n",
    "days_after_nine_eleven = len(df.loc[df[\"date\"].dt.date < year_after])\n",
    "\n",
    "lpr = lsqPredictor(phases, monthly_freqs, max_grade)\n",
    "lpr.fit(train_delays)\n",
    "lpr.print_coefs()"
   ]
  },
  {
   "cell_type": "code",
   "execution_count": null,
   "metadata": {},
   "outputs": [],
   "source": [
    "if \"dl_pred\" in df:\n",
    "    del df[\"dl_pred\"]"
   ]
  },
  {
   "cell_type": "code",
   "execution_count": null,
   "metadata": {},
   "outputs": [],
   "source": [
    "train_test_delays = df[\"ArrDelay\"]\n",
    "\n",
    "df[\"dl_pred\"] = lpr.pred(train_test_delays) "
   ]
  },
  {
   "cell_type": "code",
   "execution_count": null,
   "metadata": {},
   "outputs": [],
   "source": [
    "df_full = pd.read_csv(tmp_dir+\"monthly/full.csv\")\n",
    "df_full['date'] = pd.to_datetime(df_full['date'], errors='coerce')\n",
    "plot_df(df, df_full, len(train_delays), \"mes\")"
   ]
  },
  {
   "cell_type": "code",
   "execution_count": null,
   "metadata": {},
   "outputs": [],
   "source": [
    "pre_error = nrmse(\n",
    "        df.loc[(df[\"date\"].dt.date < nine_eleven_event) & \n",
    "               (df[\"date\"].dt.date >= year_before)]\n",
    "        .dl_pred, \n",
    "        df_full.loc[(df_full[\"date\"].dt.date < nine_eleven_event) & \n",
    "                    (df_full[\"date\"].dt.date >= year_before)]\n",
    "        .ArrDelay\n",
    ")\n",
    "\n",
    "post_error = nrmse(\n",
    "        df.loc[(df[\"date\"].dt.date > nine_eleven_event) & \n",
    "               (df[\"date\"].dt.date <= year_after)]\n",
    "        .dl_pred, \n",
    "        df_full.loc[(df_full[\"date\"].dt.date > nine_eleven_event) & \n",
    "                    (df_full[\"date\"].dt.date <= year_after)]\n",
    "        .ArrDelay\n",
    ")\n",
    "\n",
    "print(\"Error tras 9/11: {} \\nError antes de 9/11: {}\".format(post_error, pre_error))"
   ]
  },
  {
   "cell_type": "code",
   "execution_count": null,
   "metadata": {},
   "outputs": [],
   "source": [
    "avg_before = df_full.loc[(df[\"date\"].dt.date < nine_eleven_event) & \n",
    "       (df[\"date\"].dt.date >= year_before)].mean()\n",
    "\n",
    "avg_after = df_full.loc[(df_full[\"date\"].dt.date > nine_eleven_event) & \n",
    "            (df_full[\"date\"].dt.date <= year_after)].mean()\n",
    "\n",
    "print(\"Diferencia de un año:\")\n",
    "print(\"*Promedio de delay de arribos antes del 9/11: {} \\n*Promedio de delay después: {}\".format(float(avg_before), float(avg_after)))\n",
    "\n",
    "two_years_before =  nine_eleven_event - pd.offsets.DateOffset(years=2)\n",
    "two_years_after =  nine_eleven_event + pd.offsets.DateOffset(years=2)\n",
    "\n",
    "avg_before = df_full.loc[(df[\"date\"].dt.date < nine_eleven_event) & \n",
    "       (df[\"date\"].dt.date >= two_years_before)].mean()\n",
    "\n",
    "avg_after = df_full.loc[(df_full[\"date\"].dt.date > nine_eleven_event) & \n",
    "            (df_full[\"date\"].dt.date <= two_years_after)].mean()\n",
    "print(\"Diferencia de dos años:\")\n",
    "print(\"*Promedio de delay de arribos antes del 9/11: {} \\n*Promedio de delay después: {}\".format(float(avg_before), float(avg_after)))"
   ]
  },
  {
   "cell_type": "code",
   "execution_count": null,
   "metadata": {},
   "outputs": [],
   "source": []
  },
  {
   "cell_type": "code",
   "execution_count": null,
   "metadata": {},
   "outputs": [],
   "source": []
  }
 ],
 "metadata": {
  "kernelspec": {
   "display_name": "Python 3",
   "language": "python",
   "name": "python3"
  },
  "language_info": {
   "codemirror_mode": {
    "name": "ipython",
    "version": 3
   },
   "file_extension": ".py",
   "mimetype": "text/x-python",
   "name": "python",
   "nbconvert_exporter": "python",
   "pygments_lexer": "ipython3",
   "version": "3.6.8"
  }
 },
 "nbformat": 4,
 "nbformat_minor": 4
}
