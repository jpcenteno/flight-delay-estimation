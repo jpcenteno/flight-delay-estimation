{
 "cells": [
  {
   "cell_type": "markdown",
   "metadata": {},
   "source": [
    "# Top 5s\n",
    "## Top 5 aerolineas"
   ]
  },
  {
   "cell_type": "code",
   "execution_count": null,
   "metadata": {},
   "outputs": [],
   "source": [
    "# asume que los datos estan en ../data/<año>.csv.bz2\n",
    "# fixme: poner el directorio de data que esté en el repo cuando pusheen los pibes\n",
    "\n",
    "import seaborn as sns\n",
    "import matplotlib.pyplot as plt\n",
    "\n",
    "import fnmatch\n",
    "\n",
    "import pandas as pd\n",
    "import time\n",
    "import os\n",
    "import shutil\n",
    "\n",
    "import math\n",
    "import numpy as np\n",
    "\n",
    "from sklearn.metrics import mean_squared_error\n",
    "\n",
    "#sns.set(color_codes=True)\n",
    "\n",
    "# load data\n",
    "tmp_dir = \"./tmp_csv/\"\n",
    "years = [str(year) for year in range(1994,2009)]"
   ]
  },
  {
   "cell_type": "markdown",
   "metadata": {},
   "source": [
    "# CML"
   ]
  },
  {
   "cell_type": "code",
   "execution_count": null,
   "metadata": {},
   "outputs": [],
   "source": [
    "max_grade = 1\n",
    "phases = [i*math.pi/2 for i in range(4)]\n",
    "monthly_freqs =  [3, 4, 6, 12]\n",
    "\n",
    "class lsqPredictor:\n",
    "    def __init__(self, phases, freqs, max_grade):\n",
    "        self.phases = phases\n",
    "        self.freqs = freqs\n",
    "        self.max_grade = max_grade\n",
    "    \n",
    "    def trig_vals(self, t):\n",
    "        return  [math.sin(2 * math.pi / f * t + p) for f in self.freqs for p in self.phases]\n",
    "\n",
    "    def get_x_vals(self, x):\n",
    "        x_vals = []\n",
    "        for i in range(len(x)):\n",
    "            row = np.array([i**p for p in range(self.max_grade+1)] + self.trig_vals(i), dtype='float')\n",
    "            x_vals.append(row)\n",
    "        return x_vals\n",
    "    \n",
    "    def print_coefs(self):\n",
    "        c = 0\n",
    "        for i in range(self.max_grade+1):\n",
    "            print(\"Coef de x^{}:\\n{}\".format(i, self.coefs[c]))\n",
    "            c += 1\n",
    "        for i in self.freqs:\n",
    "            for j in self.phases:\n",
    "                print(\"Coef de sinusoide con frecuencia {} y fase {}:\\n{}\".format(i, j, self.coefs[c]))\n",
    "                c += 1\n",
    "                \n",
    "    def fit(self, train_set):\n",
    "        arrays = self.get_x_vals(train_set)\n",
    "        A = np.stack(arrays)\n",
    "        self.coefs = np.linalg.solve(A.T@A, A.T@train_set)\n",
    "    \n",
    "    def pred(self, pred_set):\n",
    "        arrays = self.get_x_vals(pred_set)\n",
    "        full_A = np.stack(arrays)        \n",
    "        return full_A@self.coefs "
   ]
  },
  {
   "cell_type": "markdown",
   "metadata": {},
   "source": [
    "## Procesar datos"
   ]
  },
  {
   "cell_type": "code",
   "execution_count": null,
   "metadata": {},
   "outputs": [],
   "source": [
    "years = [str(year) for year in range(1994,2000)]\n",
    "def get_top_carriers():    \n",
    "    df_acc = pd.DataFrame(columns=[\"FlightNum\", \"UniqueCarrier\"]).set_index(\"UniqueCarrier\")\n",
    "    for year in years:\n",
    "        print(\"Leyendo csv: {}\".format(year))\n",
    "        df = pd.read_csv(\"../data/\"+year+\".csv.bz2\", compression=\"bz2\", \\\n",
    "                         usecols=[\"FlightNum\", \"UniqueCarrier\"], \\\n",
    "                         encoding=\"ISO 8859-1\")    \n",
    "\n",
    "\n",
    "        df = df.groupby(by=\"UniqueCarrier\").count()\n",
    "        df_acc = pd.concat([df_acc, df]).groupby(\"UniqueCarrier\").sum()\n",
    "        del df \n",
    "    top = df_acc.nlargest(5, 'FlightNum')\n",
    "    return top\n",
    "\n",
    "df = get_top_carriers()\n",
    "df.to_csv(tmp_dir+\"carriers/top_carriers.csv\")\n",
    "df"
   ]
  },
  {
   "cell_type": "code",
   "execution_count": null,
   "metadata": {},
   "outputs": [],
   "source": [
    "df.to_csv(tmp_dir+\"carriers/top_carriers.csv\")"
   ]
  },
  {
   "cell_type": "code",
   "execution_count": null,
   "metadata": {},
   "outputs": [],
   "source": [
    "df = pd.read_csv(tmp_dir+\"carriers/top_carriers.csv\")"
   ]
  },
  {
   "cell_type": "code",
   "execution_count": null,
   "metadata": {},
   "outputs": [],
   "source": [
    "top_carriers = df.reset_index()[\"UniqueCarrier\"]\n",
    "top_carriers"
   ]
  },
  {
   "cell_type": "markdown",
   "metadata": {},
   "source": [
    "### Predecir"
   ]
  },
  {
   "cell_type": "code",
   "execution_count": null,
   "metadata": {},
   "outputs": [],
   "source": [
    "#crear directorio con data de delays agrupada por retraso \n",
    "\n",
    "# frequency = 'D' (diario) o 'M' (mensual)\n",
    "def create_grouped_files(subdir, years, carriers):\n",
    "    if not os.path.exists(tmp_dir):\n",
    "        os.makedirs(tmp_dir)\n",
    "\n",
    "    if not os.path.exists(tmp_dir + subdir):\n",
    "        os.makedirs(tmp_dir + subdir)\n",
    "    \n",
    "    df_cut = pd.DataFrame(columns=[\"date\", \"UniqueCarrier\", \"ArrDelay\"])\n",
    "    df_full = pd.DataFrame(columns=[\"date\", \"UniqueCarrier\", \"ArrDelay\"])\n",
    "    for year in years:\n",
    "        print(\"Leyendo csv: {}\".format(year))\n",
    "        df = pd.read_csv(\"../data/\"+year+\".csv.bz2\", compression=\"bz2\", \\\n",
    "                         usecols=[\"Month\", \"Year\", \"DayofMonth\", \"DayOfWeek\", \"ArrDelay\", \"UniqueCarrier\"], \\\n",
    "                         encoding=\"ISO 8859-1\")    \n",
    "\n",
    "        #solo los del carrier seleccionado\n",
    "        df = df.loc[df[\"UniqueCarrier\"].isin(carriers)]\n",
    "\n",
    "        #formato mas feliz para fechas\n",
    "        dates = pd.to_datetime(df.Year*10000+df.Month*100+df.DayofMonth, format='%Y%m%d')\n",
    "        df[\"date\"] = dates\n",
    "\n",
    "        #acumulamos en full antes de recortar outliers\n",
    "        df = df[[\"date\", \"ArrDelay\", \"UniqueCarrier\"]]\n",
    "        dg = df.groupby(\n",
    "                [pd.Grouper(key='date', freq='M'), pd.Grouper(key='UniqueCarrier')] \n",
    "            ).mean().reset_index()\n",
    "\n",
    "        df_full = pd.concat([df_full, dg], sort=False)\n",
    "        \n",
    "        #sacamos outliers\n",
    "        low = 0.1\n",
    "        high = 0.9\n",
    "\n",
    "        group = [pd.Grouper(key='date', freq='M'), pd.Grouper(key='UniqueCarrier')]\n",
    "        df = df.groupby(group) \\\n",
    "                .apply(lambda x : \n",
    "                  x[(x.ArrDelay >= x.ArrDelay.quantile(low)) & \n",
    "                    (x.ArrDelay <= x.ArrDelay.quantile(high))]\n",
    "              .mean()\n",
    "              ).reset_index()\n",
    "        \n",
    "        if (year==1994):\n",
    "            print(df)\n",
    "        \n",
    "        df_cut = pd.concat([df_cut, df], sort=False)\n",
    "        del df \n",
    "\n",
    "    df_cut.to_csv(tmp_dir+subdir+\"cut\"+\".csv\")\n",
    "    df_full.to_csv(tmp_dir+subdir+\"full\"+\".csv\")\n",
    "\n",
    "years = [str(year) for year in range(1994, 2000)]\n",
    "create_grouped_files(\"carriers/\", years, top_carriers)"
   ]
  },
  {
   "cell_type": "code",
   "execution_count": null,
   "metadata": {},
   "outputs": [],
   "source": [
    "def plot_df(df1, df2, train_limit_axis, unit_str):\n",
    "    plt.figure(figsize=(16,5))\n",
    "    plt.xlabel('Predicción para el i-ésimo {}'.format(unit_str))\n",
    "    \n",
    "    ax1 = df1.dl_pred.plot(color='orange', grid=True, label='pred delay')\n",
    "    df2.ArrDelay.plot(color='blue', grid=True, secondary_y=False, label='real delay', ax=ax1)\n",
    "\n",
    "    xticks = ax1.xaxis.get_major_ticks()\n",
    "    print(len(xticks))\n",
    "    plt.axvline(x=train_limit_axis, color=\"green\")\n",
    "    plt.show()\n",
    "\n",
    "for carrier in top_carriers:\n",
    "    df = pd.read_csv(tmp_dir+\"carriers/cut.csv\")\n",
    "    df = df[df[\"UniqueCarrier\"] == carrier]\n",
    "    df['date'] = pd.to_datetime(df['date'], errors='coerce')\n",
    "    \n",
    "    df_full = pd.read_csv(tmp_dir+\"carriers/full.csv\")\n",
    "    df_full = df_full[df_full[\"UniqueCarrier\"] == carrier]\n",
    "    df_full['date'] = pd.to_datetime(df_full['date'], errors='coerce')\n",
    "    \n",
    "    df.sort_values(by=\"date\")\n",
    "    year_train_limit = 1997\n",
    "    lower_year_train_limit = 1993\n",
    "    train_delays = df.loc[(df[\"date\"].dt.year < year_train_limit) & \\\n",
    "                          (df[\"date\"].dt.year > lower_year_train_limit)][\"ArrDelay\"]\n",
    "\n",
    "    lpr = lsqPredictor(phases, monthly_freqs, max_grade)\n",
    "    lpr.fit(train_delays)\n",
    "    #lpr.print_coefs()\n",
    "    \n",
    "    train_test_delays = df[\"ArrDelay\"]\n",
    "    df[\"dl_pred\"] = lpr.pred(train_test_delays)\n",
    "    plot_df(df.reset_index(), df_full.reset_index(), len(train_delays), \"mes\")\n",
    "\n",
    "    error = math.sqrt(\n",
    "        mean_squared_error(\n",
    "            df.loc[df[\"date\"].dt.year > year_train_limit].dl_pred, \n",
    "            df_full.loc[df_full[\"date\"].dt.year > year_train_limit].ArrDelay\n",
    "        )\n",
    "    )\n",
    "    print(error)\n",
    "    del df\n",
    "    del df_full"
   ]
  },
  {
   "cell_type": "code",
   "execution_count": null,
   "metadata": {},
   "outputs": [],
   "source": []
  }
 ],
 "metadata": {
  "kernelspec": {
   "display_name": "Python 3",
   "language": "python",
   "name": "python3"
  },
  "language_info": {
   "codemirror_mode": {
    "name": "ipython",
    "version": 3
   },
   "file_extension": ".py",
   "mimetype": "text/x-python",
   "name": "python",
   "nbconvert_exporter": "python",
   "pygments_lexer": "ipython3",
   "version": "3.7.3"
  }
 },
 "nbformat": 4,
 "nbformat_minor": 2
}
