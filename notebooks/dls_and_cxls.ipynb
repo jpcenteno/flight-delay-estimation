{
 "cells": [
  {
   "cell_type": "code",
   "execution_count": null,
   "metadata": {},
   "outputs": [],
   "source": [
    "import seaborn as sns\n",
    "import pandas as pd\n",
    "import os\n",
    "import shutil\n",
    "tmp_dir = \"./tmp_csv/\""
   ]
  },
  {
   "cell_type": "markdown",
   "metadata": {},
   "source": [
    "Buscamos aerolineas con mucha diferencia entre delay de arribos y cancelaciones en un año en particular"
   ]
  },
  {
   "cell_type": "code",
   "execution_count": null,
   "metadata": {},
   "outputs": [],
   "source": [
    "def carrier_cancelled(row):\n",
    "    canc = row[\"Cancelled\"] and row[\"CancellationCode\"] == 'A'\n",
    "    return int(canc)\n",
    "\n",
    "def get_grouped(yrs):    \n",
    "    df_acc = pd.DataFrame(columns=[\"UniqueCarrier\", \"Year\", \"ArrDelay\", \"CarrierCancelled\"]).set_index([\"UniqueCarrier\", \"Year\"])\n",
    "    for year in yrs:\n",
    "        print(\"Leyendo csv: {}\".format(year))\n",
    "        df = pd.read_csv(\"../data/\"+year+\".csv.bz2\", compression=\"bz2\", \\\n",
    "                         usecols=[\"UniqueCarrier\", \"Year\", \"ArrDelay\", \"Cancelled\", \"CancellationCode\"], \\\n",
    "                         encoding=\"ISO 8859-1\")    \n",
    "        \n",
    "        df['CarrierCancelled'] = df.apply (lambda row: carrier_cancelled(row), axis=1)\n",
    "        df = df.drop(columns=[\"Cancelled\", \"CancellationCode\"])        \n",
    "        df = df.groupby(by=[\"UniqueCarrier\", \"Year\"]).mean()\n",
    "                \n",
    "        df_acc = pd.concat([df_acc, df])\n",
    "        del df \n",
    "    print(df_acc)\n",
    "    return df_acc\n",
    "\n",
    "years = [str(year) for year in range(2004,2009)]\n",
    "\n",
    "if not os.path.exists(tmp_dir+\"carriers/\"):\n",
    "    os.makedirs(tmp_dir+\"carriers/\")\n",
    "    \n",
    "if not os.path.exists(tmp_dir+\"carriers/dls_and_cxls.csv\"):\n",
    "    df = get_grouped(years)\n",
    "    df.to_csv(tmp_dir+\"carriers/dls_and_cxls.csv\")"
   ]
  },
  {
   "cell_type": "code",
   "execution_count": null,
   "metadata": {},
   "outputs": [],
   "source": [
    "df = pd.read_csv(tmp_dir+\"carriers/dls_and_cxls.csv\")"
   ]
  },
  {
   "cell_type": "code",
   "execution_count": null,
   "metadata": {},
   "outputs": [],
   "source": [
    "df['Delay_Rank'] = df.reset_index().groupby('Year')['ArrDelay'].rank(ascending=False)\n",
    "df['Cancel_Rank'] = df.reset_index().groupby('Year')['CarrierCancelled'].rank(ascending=False)\n",
    "df[df.Year==2004]"
   ]
  },
  {
   "cell_type": "markdown",
   "metadata": {},
   "source": [
    "## Comparar offsets"
   ]
  },
  {
   "cell_type": "code",
   "execution_count": null,
   "metadata": {},
   "outputs": [],
   "source": [
    "def rank_offset(row):\n",
    "    return abs(row[\"Delay_Rank\"] - row['Cancel_Rank'])\n",
    "\n",
    "df['Rank_Offset'] = df.apply (lambda row: rank_offset(row), axis=1)\n",
    "df[df.Year == 2004]"
   ]
  },
  {
   "cell_type": "code",
   "execution_count": null,
   "metadata": {},
   "outputs": [],
   "source": [
    "df_carriers = pd.read_csv(\"../data/carriers.csv\")\n",
    "df = df.merge(df_carriers, left_on='UniqueCarrier', right_on='Code')\n",
    "print(df)"
   ]
  },
  {
   "cell_type": "code",
   "execution_count": null,
   "metadata": {},
   "outputs": [],
   "source": [
    "df.nlargest(5, 'Rank_Offset')"
   ]
  },
  {
   "cell_type": "code",
   "execution_count": null,
   "metadata": {},
   "outputs": [],
   "source": [
    "def get_count(yrs):    \n",
    "    df_acc = pd.DataFrame(columns=[\"UniqueCarrier\", \"FlightNum\"])\n",
    "    for year in yrs:\n",
    "        print(\"Leyendo csv: {}\".format(year))\n",
    "        df = pd.read_csv(\"../data/\"+year+\".csv.bz2\", compression=\"bz2\", \\\n",
    "                         usecols=[\"UniqueCarrier\", \"FlightNum\"], \\\n",
    "                         encoding=\"ISO 8859-1\")  \n",
    "        \n",
    "        df = df.groupby(by=[\"UniqueCarrier\"]).count().reset_index()\n",
    "        df_acc = pd.concat([df_acc, df], sort=True).groupby(by=[\"UniqueCarrier\"]).count().reset_index()\n",
    "\n",
    "    return df_acc\n",
    "\n",
    "years = [str(year) for year in range(2004,2009)]\n",
    "\n",
    "df_count = get_count(years)\n",
    "print(df_count)"
   ]
  }
 ],
 "metadata": {
  "kernelspec": {
   "display_name": "Python 3",
   "language": "python",
   "name": "python3"
  },
  "language_info": {
   "codemirror_mode": {
    "name": "ipython",
    "version": 3
   },
   "file_extension": ".py",
   "mimetype": "text/x-python",
   "name": "python",
   "nbconvert_exporter": "python",
   "pygments_lexer": "ipython3",
   "version": "3.6.8"
  }
 },
 "nbformat": 4,
 "nbformat_minor": 4
}
