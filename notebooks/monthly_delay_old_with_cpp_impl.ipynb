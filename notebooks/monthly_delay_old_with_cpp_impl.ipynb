{
 "cells": [
  {
   "cell_type": "code",
   "execution_count": null,
   "metadata": {
    "autoscroll": false,
    "ein.hycell": false,
    "ein.tags": "worksheet-0",
    "slideshow": {
     "slide_type": "-"
    }
   },
   "outputs": [],
   "source": [
    "# asume que los datos estan en ../data/<año>.csv.bz2\n",
    "# fixme: poner el directorio de data que esté en el repo cuando pusheen los pibes\n",
    "\n",
    "import seaborn as sns\n",
    "import matplotlib.pyplot as plt\n",
    "\n",
    "import fnmatch\n",
    "\n",
    "import pandas as pd\n",
    "import time\n",
    "import os\n",
    "import shutil\n",
    "#sns.set(color_codes=True)\n",
    "\n",
    "# load data\n",
    "tmp_dir = \"./tmp_csv/\"\n",
    "#years = [\"2006\", \"2007\"]\n",
    "years = [\"2007\"]"
   ]
  },
  {
   "cell_type": "markdown",
   "metadata": {
    "ein.tags": "worksheet-0",
    "slideshow": {
     "slide_type": "-"
    }
   },
   "source": [
    "## Procesar datos"
   ]
  },
  {
   "cell_type": "code",
   "execution_count": null,
   "metadata": {},
   "outputs": [],
   "source": [
    "#crear directorio con data de delays agrupada por retraso \n",
    "if not os.path.exists(tmp_dir):\n",
    "    os.makedirs(tmp_dir)\n",
    "    \n",
    "for year in years:\n",
    "    if not os.path.exists(tmp_dir+year+\".csv\"):\n",
    "        print(\"Leyendo csv: {}\".format(year))\n",
    "        t = time.time()\n",
    "        df = pd.read_csv(\"../data/\"+year+\".csv.bz2\", compression=\"bz2\", usecols=[\"Month\", \"Year\", \"DayofMonth\", \"DayOfWeek\", \"DepDelay\"], encoding=\"ISO 8859-1\")    \n",
    "\n",
    "        #formato mas feliz para fechas\n",
    "        dates = pd.to_datetime(df.Year*10000+df.Month*100+df.DayofMonth, format='%Y%m%d')\n",
    "        df[\"date\"] = dates\n",
    "        df = df[[\"date\", \"Year\", \"DepDelay\"]]\n",
    "\n",
    "        #sacamos outliers\n",
    "        low = 0.25\n",
    "        high = 0.75\n",
    "        qiles = df.groupby(\"date\")[\"DepDelay\"].quantile([low, high]).unstack(level=1)\n",
    "        mask =  (qiles.loc[df.date, low] < df.DepDelay.values) & \\\n",
    "                (df.DepDelay.values < qiles.loc[df.date, high])\n",
    "        df = df.loc[mask.values]\n",
    "        \n",
    "        #agrupamos\n",
    "        df = df.groupby(by=df['date'].dt.date).mean()\n",
    "        df.to_csv(tmp_dir+year+\".csv\")\n",
    "        del df "
   ]
  },
  {
   "cell_type": "code",
   "execution_count": null,
   "metadata": {
    "autoscroll": false,
    "ein.hycell": false,
    "ein.tags": "worksheet-0",
    "slideshow": {
     "slide_type": "-"
    }
   },
   "outputs": [],
   "source": [
    "for filename in os.listdir(tmp_dir):\n",
    "    if filename.endswith(\".csv\") and filename != \"merged.csv\":\n",
    "        print(filename)\n",
    "        df = pd.read_csv(tmp_dir+filename)\n",
    "        fig, ax = plt.subplots(figsize=(16,4))\n",
    "        sns.lineplot(x=df.date, y=df.DepDelay, linestyle='-')\n",
    "        plt.xticks(plt.xticks()[0], df.date, rotation=90)\n",
    "        plt.tight_layout()\n",
    "        xticks = ax.xaxis.get_major_ticks()\n",
    "        for i in range(len(xticks)):\n",
    "            if i%30 != 0:\n",
    "                xticks[i].set_visible(False)\n",
    "            if i%int((len(xticks))/4) == 0:\n",
    "                plt.axvline(x=i, color=\"orange\")\n",
    "            if i%int((len(xticks))/3) == 0:\n",
    "                plt.axvline(x=i, color=\"green\")\n",
    "        fig.autofmt_xdate()\n",
    "        plt.show()\n",
    "df\n",
    "#Trimestres en verde, cuatrimestres en naranja"
   ]
  },
  {
   "cell_type": "code",
   "execution_count": null,
   "metadata": {
    "autoscroll": false,
    "ein.hycell": false,
    "ein.tags": "worksheet-0",
    "slideshow": {
     "slide_type": "-"
    }
   },
   "outputs": [],
   "source": [
    "#merge\n",
    "df = pd.DataFrame(columns=[\"date\", \"DepDelay\", \"ArrDelay\"])\n",
    "for filename in os.listdir(tmp_dir):\n",
    "    if filename.endswith(\".csv\") and filename != \"merged.csv\":\n",
    "        print(filename)\n",
    "        df_input = pd.read_csv(tmp_dir+filename)\n",
    "        df = pd.concat([df, df_input], sort=False)\n",
    "df.to_csv(tmp_dir+\"merged.csv\")"
   ]
  },
  {
   "cell_type": "code",
   "execution_count": null,
   "metadata": {
    "autoscroll": false,
    "ein.hycell": false,
    "ein.tags": "worksheet-0",
    "slideshow": {
     "slide_type": "-"
    }
   },
   "outputs": [],
   "source": [
    "df = pd.read_csv(tmp_dir+\"merged.csv\")\n",
    "df.plot(x=\"date\", y=\"DepDelay\", linestyle='-', figsize=(16,4))"
   ]
  },
  {
   "cell_type": "markdown",
   "metadata": {
    "ein.tags": "worksheet-0",
    "slideshow": {
     "slide_type": "-"
    }
   },
   "source": [
    "## CML acá "
   ]
  },
  {
   "cell_type": "code",
   "execution_count": null,
   "metadata": {
    "autoscroll": false,
    "ein.hycell": false,
    "ein.tags": "worksheet-0",
    "slideshow": {
     "slide_type": "-"
    }
   },
   "outputs": [],
   "source": [
    "delays = df[\"DepDelay\"]\n",
    "print(delays)\n",
    "len(delays)"
   ]
  },
  {
   "cell_type": "code",
   "execution_count": null,
   "metadata": {
    "autoscroll": false,
    "ein.hycell": false,
    "ein.tags": "worksheet-0",
    "slideshow": {
     "slide_type": "-"
    }
   },
   "outputs": [],
   "source": [
    "import numpy as np\n",
    "import math\n",
    "\n",
    "n = 5\n",
    "phases = [i*math.pi/2 for i in range(4)]\n",
    "\n",
    "# semanas, meses, bimestres, trimestres, cuatrimestres, semestres, años\n",
    "freqs =  [7] + [355/i for i in [12, 6, 4, 3, 2, 1]]\n",
    "\n",
    "def trig_vals(t):\n",
    "    return  [math.sin(2 * math.pi / f * t + p) for f in freqs for p in phases] + \\\n",
    "            [math.cos(2 * math.pi / f * t + p) for f in freqs for p in phases]\n",
    "\n",
    "A = np.array([])\n",
    "arrays = []\n",
    "for i in range(len(delays)):\n",
    "    row = np.array([i**p for p in range(n+1)] + trig_vals(i))\n",
    "    arrays.append(row)\n",
    "\n",
    "A = np.stack(arrays)\n",
    "print(A.shape)\n",
    "\n",
    "coefs = np.linalg.lstsq(A, delays, rcond=None)[0]\n",
    "coefs_normal = np.linalg.solve(A.T@A, A.T@delays)\n"
   ]
  },
  {
   "cell_type": "code",
   "execution_count": null,
   "metadata": {
    "autoscroll": false,
    "ein.hycell": false,
    "ein.tags": "worksheet-0",
    "slideshow": {
     "slide_type": "-"
    }
   },
   "outputs": [],
   "source": [
    "\n",
    "from cml import svd_solver as ss\n",
    "coefs_svd = ss.lstsq(A, delays)\n",
    "\n",
    "from cml import normal_equations_solver as nes\n",
    "coefs_nes = nes.lstsq(A, delays)\n",
    "\n",
    "from cml import qr_solver as qr_fast\n",
    "coefs_qr_fast = qr_fast.lstsq(A, delays)\n",
    "from cml import qr_col_pivot_solver as qr_col\n",
    "coefs_qr_col = qr_col.lstsq(A, delays)\n",
    "from cml import qr_full_pivot_solver as qr_full\n",
    "coefs_qr_full = qr_full.lstsq(A, delays)\n"
   ]
  },
  {
   "cell_type": "code",
   "execution_count": null,
   "metadata": {
    "autoscroll": false,
    "ein.hycell": false,
    "ein.tags": "worksheet-0",
    "slideshow": {
     "slide_type": "-"
    }
   },
   "outputs": [],
   "source": [
    "df[\"dl_pred\"] = A@coefs\n",
    "df[\"dl_pred_normal\"] = A@coefs_normal\n",
    "\n",
    "df[\"dl_pred_nes\"] = A@coefs_nes\n",
    "df[\"dl_pred_svd\"] = A@coefs_svd\n",
    "\n",
    "df[\"dl_pred_qr\"] = A@coefs_qr_fast\n",
    "df[\"dl_pred_qr_col\"] = A@coefs_qr_col\n",
    "df[\"dl_pred_qr_full\"] = A@coefs_qr_full"
   ]
  },
  {
   "cell_type": "code",
   "execution_count": null,
   "metadata": {
    "autoscroll": false,
    "ein.hycell": false,
    "ein.tags": "worksheet-0",
    "slideshow": {
     "slide_type": "-"
    }
   },
   "outputs": [],
   "source": [
    "def plot_impl(impl_df, impl_label):\n",
    "\n",
    "    plt.clf()\n",
    "\n",
    "    plt.figure(figsize=(16,5))\n",
    "    plt.xlabel('Predicción para el i-ésimo dia')\n",
    "\n",
    "    ax1 = df.DepDelay.plot(color='blue', grid=True, secondary_y=True, label='real delay')\n",
    "    ax2 = df.dl_pred.plot(color='orange', grid=True, label='pred delay (np)')\n",
    "    ax3 = df.dl_pred_normal.plot(color='yellow', grid=True, label='pred delay (np-normal)')\n",
    "\n",
    "    ax4 = df[impl_df].plot(color='magenta', grid=True, label=impl_label)\n",
    "\n",
    "    h1, l1 = ax1.get_legend_handles_labels()\n",
    "    h2, l2 = ax2.get_legend_handles_labels()\n",
    "\n",
    "    plt.legend(h1+h2, l1+l2, loc=2)\n",
    "    plt.show()\n",
    "\n",
    "plot_impl(\"dl_pred_nes\", \"pred delay (normal equations)\")\n",
    "plot_impl(\"dl_pred_svd\", \"pred delay (SVD)\")\n",
    "plot_impl(\"dl_pred_qr\", \"pred delay (QR)\")\n",
    "plot_impl(\"dl_pred_qr_col\", \"pred delay (QR Col Pivot)\")\n",
    "plot_impl(\"dl_pred_qr_full\", \"pred delay (QR Full Pivot)\")\n"
   ]
  },
  {
   "cell_type": "code",
   "execution_count": null,
   "metadata": {
    "autoscroll": false,
    "ein.hycell": false,
    "ein.tags": "worksheet-0",
    "slideshow": {
     "slide_type": "-"
    }
   },
   "outputs": [],
   "source": [
    "import numpy as np\n",
    "import math\n",
    "\n",
    "max_grade = 1\n",
    "phases = [i*math.pi/2 for i in range(4)]\n",
    "\n",
    "# semanas, meses, bimestres, trimestres, cuatrimestres, semestres, años\n",
    "freqs =  [7] + [355/i for i in [12, 6, 4, 3, 2, 1]]\n",
    "\n",
    "class lsqPredictor:\n",
    "    def __init__(self, phases, freqs, max_grade):\n",
    "        self.phases = phases\n",
    "        self.freqs = freqs\n",
    "        self.max_grade = max_grade\n",
    "    \n",
    "    def get_params(self, deep=True):\n",
    "        \"\"\"función necesaria para que sklearn lo trate como un estimador. Se puede usar en cross validations & shit\"\"\"\n",
    "        pars={}\n",
    "        pars[\"phases\"] = self.phases\n",
    "        pars[\"freqs\"] = self.freqs\n",
    "        pars[\"max_grade\"] = self.max_grade\n",
    "        return pars\n",
    "        \n",
    "    def set_params(self, pars):\n",
    "        \"\"\"función necesaria para que sklearn lo trate como un estimador. Se puede usar en cross validations & shit\"\"\"\n",
    "        self.phases =    pars[\"phases\"]\n",
    "        self.freqs =     pars[\"freqs\"]\n",
    "        self.max_grade = pars[\"max_grade\"]\n",
    "        \n",
    "    def trig_vals(self, t):\n",
    "        return  [math.sin(2 * math.pi / f * t + p) for f in self.freqs for p in self.phases]\n",
    "\n",
    "    def get_x_vals(self, x):\n",
    "        x_vals = []\n",
    "        for i in range(len(x)):\n",
    "            row = np.array([i**p for p in range(self.max_grade+1)] + self.trig_vals(i), dtype='float')\n",
    "            x_vals.append(row)\n",
    "        return x_vals\n",
    "\n",
    "    def fit(self, train_set):\n",
    "        arrays = self.get_x_vals(train_set)\n",
    "        A = np.stack(arrays)\n",
    "        self.coefs = np.linalg.solve(A.T@A, A.T@train_set)\n",
    "\n",
    "    def pred(self, pred_set):\n",
    "        arrays = self.get_x_vals(pred_set)\n",
    "        full_A = np.stack(arrays)\n",
    "        return full_A@self.coefs"
   ]
  },
  {
   "cell_type": "code",
   "execution_count": null,
   "metadata": {
    "autoscroll": false,
    "ein.hycell": false,
    "ein.tags": "worksheet-0",
    "slideshow": {
     "slide_type": "-"
    }
   },
   "outputs": [],
   "source": [
    "\n",
    "from sklearn.model_selection import TimeSeriesSplit\n",
    "from sklearn import svm\n",
    "from sklearn.model_selection import cross_val_score\n",
    "from sklearn.metrics import mean_squared_error, make_scorer\n",
    "\n",
    "lsq = lsqPredictor(phases, freqs, max_grade)\n",
    "tscv = TimeSeriesSplit(n_splits=3)\n",
    "\n",
    "scores = cross_val_score(lsq, df[\"DepDelay\"], cv = tscv, scoring=make_scorer(mean_squared_error))\n",
    "\n",
    "print(\"Accuracy: %0.2f (+/- %0.2f)\" % (scores.mean(), scores.std() * 2))\n"
   ]
  },
  {
   "cell_type": "code",
   "execution_count": null,
   "metadata": {
    "autoscroll": false,
    "ein.hycell": false,
    "ein.tags": "worksheet-0",
    "slideshow": {
     "slide_type": "-"
    }
   },
   "outputs": [],
   "source": []
  },
  {
   "cell_type": "markdown",
   "metadata": {
    "ein.tags": "worksheet-0",
    "slideshow": {
     "slide_type": "-"
    }
   },
   "source": [
    "## BORRAR ARCHIVOS"
   ]
  },
  {
   "cell_type": "code",
   "execution_count": null,
   "metadata": {
    "autoscroll": false,
    "ein.hycell": false,
    "ein.tags": "worksheet-0",
    "slideshow": {
     "slide_type": "-"
    }
   },
   "outputs": [],
   "source": [
    "#borrar aux de años\n",
    "for filename in os.listdir(tmp_dir):\n",
    "    if fnmatch.fnmatch(filename, '*.csv') and filename != \"merged.csv\":\n",
    "        os.remove(tmp_dir+filename)"
   ]
  },
  {
   "cell_type": "code",
   "execution_count": null,
   "metadata": {
    "autoscroll": false,
    "ein.hycell": false,
    "ein.tags": "worksheet-0",
    "slideshow": {
     "slide_type": "-"
    }
   },
   "outputs": [],
   "source": [
    "#borrar tmp\n",
    "shutil.rmtree(tmp_dir)"
   ]
  },
  {
   "cell_type": "code",
   "execution_count": null,
   "metadata": {
    "autoscroll": false,
    "ein.hycell": false,
    "ein.tags": "worksheet-0",
    "slideshow": {
     "slide_type": "-"
    }
   },
   "outputs": [],
   "source": []
  },
  {
   "cell_type": "code",
   "execution_count": null,
   "metadata": {},
   "outputs": [],
   "source": []
  },
  {
   "cell_type": "code",
   "execution_count": null,
   "metadata": {},
   "outputs": [],
   "source": []
  }
 ],
 "metadata": {
  "kernelspec": {
   "display_name": "Python 3",
   "language": "python",
   "name": "python3"
  },
  "language_info": {
   "codemirror_mode": {
    "name": "ipython",
    "version": 3
   },
   "file_extension": ".py",
   "mimetype": "text/x-python",
   "name": "python",
   "nbconvert_exporter": "python",
   "pygments_lexer": "ipython3",
   "version": "3.7.4"
  },
  "name": "monthly_delay_old_with_cpp_impl.ipynb"
 },
 "nbformat": 4,
 "nbformat_minor": 2
}
